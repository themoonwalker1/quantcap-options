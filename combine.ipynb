{
 "cells": [
  {
   "cell_type": "code",
   "execution_count": 2,
   "metadata": {},
   "outputs": [
    {
     "ename": "PermissionError",
     "evalue": "[Errno 1] Operation not permitted: '/Users/glennfor/Downloads/options'",
     "output_type": "error",
     "traceback": [
      "\u001b[0;31m---------------------------------------------------------------------------\u001b[0m",
      "\u001b[0;31mPermissionError\u001b[0m                           Traceback (most recent call last)",
      "Cell \u001b[0;32mIn[2], line 54\u001b[0m\n\u001b[1;32m     51\u001b[0m input_directory \u001b[38;5;241m=\u001b[39m \u001b[38;5;124m\"\u001b[39m\u001b[38;5;124m/Users/glennfor/Downloads/options\u001b[39m\u001b[38;5;124m\"\u001b[39m\n\u001b[1;32m     52\u001b[0m output_combined_file \u001b[38;5;241m=\u001b[39m \u001b[38;5;124m\"\u001b[39m\u001b[38;5;124mcombined_output.csv.zst\u001b[39m\u001b[38;5;124m\"\u001b[39m\n\u001b[0;32m---> 54\u001b[0m \u001b[43mcombine_csv_zst_files\u001b[49m\u001b[43m(\u001b[49m\u001b[43minput_directory\u001b[49m\u001b[43m,\u001b[49m\u001b[43m \u001b[49m\u001b[43moutput_combined_file\u001b[49m\u001b[43m)\u001b[49m\n",
      "Cell \u001b[0;32mIn[2], line 26\u001b[0m, in \u001b[0;36mcombine_csv_zst_files\u001b[0;34m(input_dir, output_file)\u001b[0m\n\u001b[1;32m     23\u001b[0m combined_df \u001b[38;5;241m=\u001b[39m pd\u001b[38;5;241m.\u001b[39mDataFrame()\n\u001b[1;32m     25\u001b[0m \u001b[38;5;66;03m# Decompress each .zst file and read the CSV\u001b[39;00m\n\u001b[0;32m---> 26\u001b[0m \u001b[38;5;28;01mfor\u001b[39;00m zst_file \u001b[38;5;129;01min\u001b[39;00m \u001b[43mos\u001b[49m\u001b[38;5;241;43m.\u001b[39;49m\u001b[43mlistdir\u001b[49m\u001b[43m(\u001b[49m\u001b[43minput_dir\u001b[49m\u001b[43m)\u001b[49m:\n\u001b[1;32m     27\u001b[0m     \u001b[38;5;28;01mif\u001b[39;00m zst_file\u001b[38;5;241m.\u001b[39mendswith(\u001b[38;5;124m'\u001b[39m\u001b[38;5;124m.csv.zst\u001b[39m\u001b[38;5;124m'\u001b[39m):\n\u001b[1;32m     28\u001b[0m         temp_csv \u001b[38;5;241m=\u001b[39m os\u001b[38;5;241m.\u001b[39mpath\u001b[38;5;241m.\u001b[39mjoin(temp_dir, zst_file\u001b[38;5;241m.\u001b[39mreplace(\u001b[38;5;124m'\u001b[39m\u001b[38;5;124m.zst\u001b[39m\u001b[38;5;124m'\u001b[39m, \u001b[38;5;124m'\u001b[39m\u001b[38;5;124m'\u001b[39m))\n",
      "\u001b[0;31mPermissionError\u001b[0m: [Errno 1] Operation not permitted: '/Users/glennfor/Downloads/options'"
     ]
    }
   ],
   "source": [
    "import os\n",
    "import pandas as pd\n",
    "import zstandard as zstd\n",
    "\n",
    "def decompress_zst_to_csv(zst_file, output_csv):\n",
    "    \"\"\"Decompresses a .zst file into a .csv file.\"\"\"\n",
    "    with open(zst_file, 'rb') as f:\n",
    "        dctx = zstd.ZstdDecompressor()\n",
    "        with open(output_csv, 'wb') as out_f:\n",
    "            out_f.write(dctx.decompress(f.read()))\n",
    "\n",
    "def combine_csv_zst_files(input_dir, output_file):\n",
    "    \"\"\"\n",
    "    Combines multiple .csv.zst files in a directory into a single .csv.zst file.\n",
    "    \n",
    "    Args:\n",
    "        input_dir (str): Directory containing the .csv.zst files.\n",
    "        output_file (str): Path to the combined output .csv.zst file.\n",
    "    \"\"\"\n",
    "    temp_dir = \"temp_csv_files\"\n",
    "    os.makedirs(temp_dir, exist_ok=True)\n",
    "    \n",
    "    combined_df = pd.DataFrame()\n",
    "    \n",
    "    # Decompress each .zst file and read the CSV\n",
    "    for zst_file in os.listdir(input_dir):\n",
    "        if zst_file.endswith('.csv.zst'):\n",
    "            temp_csv = os.path.join(temp_dir, zst_file.replace('.zst', ''))\n",
    "            decompress_zst_to_csv(os.path.join(input_dir, zst_file), temp_csv)\n",
    "            df = pd.read_csv(temp_csv)\n",
    "            combined_df = pd.concat([combined_df, df], ignore_index=True)\n",
    "    \n",
    "    # Save the combined DataFrame to a .csv file\n",
    "    combined_csv = \"combined.csv\"\n",
    "    combined_df.to_csv(combined_csv, index=False)\n",
    "    \n",
    "    # Compress the combined .csv to .zst\n",
    "    with open(combined_csv, 'rb') as f:\n",
    "        cctx = zstd.ZstdCompressor(level=3)\n",
    "        with open(output_file, 'wb') as out_f:\n",
    "            out_f.write(cctx.compress(f.read()))\n",
    "    \n",
    "    # Clean up temporary files\n",
    "    os.remove(combined_csv)\n",
    "    for temp_file in os.listdir(temp_dir):\n",
    "        os.remove(os.path.join(temp_dir, temp_file))\n",
    "    os.rmdir(temp_dir)\n",
    "\n",
    "# Example usage:\n",
    "# Provide the directory containing your .csv.zst files and the output file name\n",
    "input_directory = \"/Users/glennfor/Downloads/options\"\n",
    "output_combined_file = \"combined_output.csv.zst\"\n",
    "\n",
    "combine_csv_zst_files(input_directory, output_combined_file)\n"
   ]
  }
 ],
 "metadata": {
  "kernelspec": {
   "display_name": "Python 3",
   "language": "python",
   "name": "python3"
  },
  "language_info": {
   "codemirror_mode": {
    "name": "ipython",
    "version": 3
   },
   "file_extension": ".py",
   "mimetype": "text/x-python",
   "name": "python",
   "nbconvert_exporter": "python",
   "pygments_lexer": "ipython3",
   "version": "3.10.12"
  }
 },
 "nbformat": 4,
 "nbformat_minor": 2
}
