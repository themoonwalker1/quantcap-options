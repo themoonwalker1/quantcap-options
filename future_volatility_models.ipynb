{
 "cells": [
  {
   "cell_type": "code",
   "execution_count": 1,
   "metadata": {},
   "outputs": [],
   "source": [
    "import requests\n",
    "import pandas as pd\n",
    "import numpy as np\n",
    "from datetime import datetime, timedelta, date\n",
    "import json\n",
    "import httpx\n",
    "import csv\n",
    "import zstandard as zstd\n",
    "import io\n",
    "import yfinance as yf\n",
    "from dateutil.relativedelta import relativedelta\n",
    "from httpx import HTTPStatusError\n",
    "import seaborn as sns\n",
    "import matplotlib.pyplot as plt\n",
    "from pathlib import Path\n",
    "import pandas_ta as ta\n",
    "from options_data import *"
   ]
  },
  {
   "cell_type": "code",
   "execution_count": 2,
   "metadata": {},
   "outputs": [
    {
     "name": "stdout",
     "output_type": "stream",
     "text": [
      "[1] getting fundamental data\n",
      "[2] getting historical data\n",
      "[1] fundamental data\n",
      "[2] added historical data\n",
      "Series([], Name: expiration, dtype: datetime64[ns])\n"
     ]
    }
   ],
   "source": [
    "test = GatherData()\n",
    "print(\"[1] getting fundamental data\")\n",
    "fundamental_data = test.get_fundamental_data(\"GOOGL\", \"2020-01-01\", \"2025-01-10\")\n",
    "print(\"[2] getting historical data\")\n",
    "historical_data = test.get_historical_data([\"GOOGL\"], \"2020-01-01\", \"2025-01-10\")\n",
    "\n",
    "historical_data = pd.DataFrame.rename(historical_data, columns={\"root\":\"ticker\"})\n",
    "historical_data[\"date\"] =pd.to_datetime(historical_data['date'], format='%Y-%m-%d', errors='coerce')\n",
    "historical_data = historical_data.drop(columns={\"underlying_price\"})\n",
    "historical_data = historical_data[historical_data[\"right\"]==\"C\"]\n",
    "\n",
    "fundamental_data[\"date\"] = pd.to_datetime(fundamental_data['date']).dt.date\n",
    "historical_data[\"date\"] = pd.to_datetime(historical_data['date']).dt.date\n",
    "\n",
    "print('[1] fundamental data')\n",
    "df = pd.DataFrame(fundamental_data)\n",
    "print('[2] added historical data')\n",
    "df = pd.merge(df, historical_data, how=\"outer\", on=[\"ticker\", \"date\"])\n",
    "# print('[3] added liquidity data')\n",
    "# df = pd.merge(df, liquidity_data, how=\"outer\", on=[\"date\"])\n",
    "# print('[4] added institutional data')\n",
    "# df = pd.merge(df, institutional_data, how=\"outer\", on=[\"ticker\", \"date\"])\n",
    "# print('[5] added sentiment data')\n",
    "# df = pd.merge(df, sentiment_data, how=\"outer\", on=[\"ticker\", \"date\"])\n",
    "# print('[6] added earnings data')\n",
    "# df = pd.merge(df, earnings_data, how=\"outer\", on=[\"ticker\", \"date\"])\n",
    "# df = pd.merge(df, vix_renamed, how=\"left\", on=\"date\")\n",
    "df = pd.DataFrame.rename(df, columns={\"close_x\":\"stock_close\", \"volume_x\":\"stock_volume\", \"close_y\":\"options_close_price\"})\n",
    "df = df.drop(columns={\"ticker\"})\n",
    "\n",
    "df[\"expiration\"] = df[\"expiration\"].astype(str)\n",
    "df[\"expiration\"] = pd.to_datetime(df[\"expiration\"], format=\"%Y-%m-%d\", errors=\"coerce\")\n",
    "print(df[\"expiration\"][df[\"expiration\"].isna()])\n",
    "# df[\"expiration\"] = pd.to_datetime(historical_data[\"expiration\"], format=\"%Y-%m-%d\", errors=\"ignore\")\n",
    "# print(df[\"date\"][df[\"expiration\"].isna()])\n",
    "df[\"expiration_date\"] = df[\"expiration\"]\n",
    "df[\"expiration\"] = (df[\"expiration\"] - pd.to_datetime(df[\"date\"])).dt.days\n",
    "df = df.set_index(\"date\")\n",
    "\n",
    "df = df.drop(columns={\"right\"})\n"
   ]
  },
  {
   "cell_type": "code",
   "execution_count": 43,
   "metadata": {},
   "outputs": [
    {
     "name": "stdout",
     "output_type": "stream",
     "text": [
      "Index(['stock_close', 'high', 'low', 'open', 'stock_volume', 'adjClose',\n",
      "       'adjHigh', 'adjLow', 'adjOpen', 'adjVolume', 'divCash', 'splitFactor',\n",
      "       'expiration', 'strike', 'options_close_price', 'volume_y', 'count',\n",
      "       'bid', 'bid_size', 'ask', 'ask_size', 'open_interest', 'delta', 'theta',\n",
      "       'vega', 'rho', 'epsilon', 'lambda', 'gamma', 'd1', 'd2', 'implied_vol',\n",
      "       'iv_error', 'expiration_date'],\n",
      "      dtype='object')\n",
      "            options_close_price  implied_vol  7_day_vol_target  \\\n",
      "date                                                             \n",
      "2020-01-02                71.35       0.1843          0.138101   \n",
      "2020-01-03                67.30       0.2362          0.136846   \n",
      "2020-01-06                98.00       0.0000          0.064231   \n",
      "2020-01-07                97.00       0.2659          0.061449   \n",
      "2020-01-08               105.66       0.2080          0.075889   \n",
      "2020-01-09               119.21       0.0000               NaN   \n",
      "2020-01-10               129.60       0.3061               NaN   \n",
      "2020-01-13               141.00       0.5082               NaN   \n",
      "2020-01-14               133.90       0.7398               NaN   \n",
      "2020-01-15               134.00       0.0000               NaN   \n",
      "2020-01-16               147.30       0.0000               NaN   \n",
      "2020-01-17               175.82       0.0000               NaN   \n",
      "\n",
      "            implied_forecasted_vol_diff  options_overpriced  \n",
      "date                                                         \n",
      "2020-01-02                     0.046199                True  \n",
      "2020-01-03                     0.099354                True  \n",
      "2020-01-06                    -0.064231               False  \n",
      "2020-01-07                     0.204451                True  \n",
      "2020-01-08                     0.132111                True  \n",
      "2020-01-09                          NaN               False  \n",
      "2020-01-10                          NaN               False  \n",
      "2020-01-13                          NaN               False  \n",
      "2020-01-14                          NaN               False  \n",
      "2020-01-15                          NaN               False  \n",
      "2020-01-16                          NaN               False  \n",
      "2020-01-17                          NaN               False  \n"
     ]
    }
   ],
   "source": [
    "# Volatility Calculating from options close price\n",
    "print(df.columns)\n",
    "\n",
    "processed_df = df.copy()\n",
    "# processed_df = processed_df.drop(columns={\"high\", \"low\", \"stock_close\", \"open\", \"adjHigh\", \"adjLow\", \"adjOpen\"})\n",
    "processed_df = processed_df[processed_df[\"options_close_price\"] != 0]\n",
    "# processed_df[\"implied_vol\"] = processed_df[\"implied_vol\"].shift(-1)\n",
    "\n",
    "processed_df[\"previous_price\"] = processed_df.groupby([\"strike\", \"expiration_date\"])[\"options_close_price\"].shift(1)\n",
    "\n",
    "processed_df[\"log_return\"] = np.log(processed_df[\"options_close_price\"]/processed_df[\"previous_price\"])\n",
    "# processed_df[\"log_return\"] = processed_df[\"log_return\"].fillna(0)\n",
    "processed_df[\"7_day_vol\"] = processed_df.groupby([\"strike\", \"expiration_date\"])[\"log_return\"].transform(lambda x: x.rolling(window=7).std())\n",
    "processed_df[\"7_day_vol_target\"] = processed_df.groupby([\"strike\", \"expiration_date\"])[\"7_day_vol\"].shift(-7)\n",
    "\n",
    "processed_df[\"options_close_price_7_days\"] = processed_df[\"options_close_price\"].shift(-7)\n",
    "processed_df[\"options_7_day_diff\"] = processed_df[\"options_close_price_7_days\"] - processed_df[\"options_close_price\"]\n",
    "processed_df[\"implied_forecasted_vol_diff\"] = processed_df[\"implied_vol\"] - processed_df[\"7_day_vol_target\"]\n",
    "processed_df[\"options_overpriced\"] = processed_df[\"implied_forecasted_vol_diff\"] > 0\n",
    "\n",
    "\n",
    "print(processed_df[(processed_df[\"strike\"] == 1300000) & (processed_df[\"expiration_date\"] == pd.to_datetime(\"2020-01-17\"))][[\"options_close_price\", \"implied_vol\", \"7_day_vol_target\", \"implied_forecasted_vol_diff\", \"options_overpriced\"]])\n",
    "# processed_df[[\"strike\", \"expiration_date\", \"options_close_price\", \"previous_price\",\"log_return\",\"7_day_vol_target\"]][1000:]"
   ]
  },
  {
   "cell_type": "code",
   "execution_count": 44,
   "metadata": {},
   "outputs": [],
   "source": [
    "eda = DataVis()\n",
    "spearman_correlation_matrix = processed_df.corr(method='spearman')\n",
    "pearson_correlation_matrix = processed_df.corr(method='pearson')\n",
    "processed_df.dropna(subset = [\"7_day_vol_target\"], inplace=True)"
   ]
  },
  {
   "cell_type": "code",
   "execution_count": 45,
   "metadata": {},
   "outputs": [
    {
     "name": "stdout",
     "output_type": "stream",
     "text": [
      "              Variable 1                   Variable 2  Correlation  \\\n",
      "1649  options_7_day_diff                          bid    -0.713113   \n",
      "1646  options_7_day_diff          options_close_price    -0.712690   \n",
      "1651  options_7_day_diff                          ask    -0.700229   \n",
      "1666  options_7_day_diff               previous_price    -0.652585   \n",
      "1659  options_7_day_diff                       lambda     0.614635   \n",
      "1661  options_7_day_diff                           d1    -0.594840   \n",
      "1662  options_7_day_diff                           d2    -0.590760   \n",
      "1668  options_7_day_diff                    7_day_vol     0.445175   \n",
      "1658  options_7_day_diff                      epsilon     0.403307   \n",
      "1657  options_7_day_diff                          rho    -0.394194   \n",
      "1654  options_7_day_diff                        delta    -0.375177   \n",
      "1647  options_7_day_diff                     volume_y     0.317764   \n",
      "1653  options_7_day_diff                open_interest     0.296434   \n",
      "1648  options_7_day_diff                        count     0.285704   \n",
      "1656  options_7_day_diff                         vega    -0.262996   \n",
      "1669  options_7_day_diff             7_day_vol_target     0.255134   \n",
      "1667  options_7_day_diff                   log_return    -0.253623   \n",
      "1644  options_7_day_diff                   expiration    -0.251840   \n",
      "1672  options_7_day_diff  implied_forecasted_vol_diff    -0.204834   \n",
      "1652  options_7_day_diff                     ask_size     0.180148   \n",
      "1636  options_7_day_diff                 stock_volume     0.161635   \n",
      "1634  options_7_day_diff                          low    -0.156717   \n",
      "1632  options_7_day_diff                  stock_close    -0.156585   \n",
      "1635  options_7_day_diff                         open    -0.155358   \n",
      "1633  options_7_day_diff                         high    -0.155231   \n",
      "1655  options_7_day_diff                        theta     0.154684   \n",
      "1663  options_7_day_diff                  implied_vol     0.148543   \n",
      "1673  options_7_day_diff           options_overpriced    -0.146240   \n",
      "1670  options_7_day_diff   options_close_price_7_days    -0.130073   \n",
      "1665  options_7_day_diff              expiration_date     0.123179   \n",
      "1664  options_7_day_diff                     iv_error    -0.115193   \n",
      "1660  options_7_day_diff                        gamma     0.097486   \n",
      "1650  options_7_day_diff                     bid_size    -0.028303   \n",
      "1641  options_7_day_diff                    adjVolume     0.024248   \n",
      "1643  options_7_day_diff                  splitFactor     0.016794   \n",
      "1639  options_7_day_diff                       adjLow    -0.015018   \n",
      "1637  options_7_day_diff                     adjClose    -0.014889   \n",
      "1640  options_7_day_diff                      adjOpen    -0.013490   \n",
      "1638  options_7_day_diff                      adjHigh    -0.013044   \n",
      "1645  options_7_day_diff                       strike    -0.002923   \n",
      "1642  options_7_day_diff                      divCash     0.001096   \n",
      "\n",
      "      Abs Correlation  \n",
      "1649         0.713113  \n",
      "1646         0.712690  \n",
      "1651         0.700229  \n",
      "1666         0.652585  \n",
      "1659         0.614635  \n",
      "1661         0.594840  \n",
      "1662         0.590760  \n",
      "1668         0.445175  \n",
      "1658         0.403307  \n",
      "1657         0.394194  \n",
      "1654         0.375177  \n",
      "1647         0.317764  \n",
      "1653         0.296434  \n",
      "1648         0.285704  \n",
      "1656         0.262996  \n",
      "1669         0.255134  \n",
      "1667         0.253623  \n",
      "1644         0.251840  \n",
      "1672         0.204834  \n",
      "1652         0.180148  \n",
      "1636         0.161635  \n",
      "1634         0.156717  \n",
      "1632         0.156585  \n",
      "1635         0.155358  \n",
      "1633         0.155231  \n",
      "1655         0.154684  \n",
      "1663         0.148543  \n",
      "1673         0.146240  \n",
      "1670         0.130073  \n",
      "1665         0.123179  \n",
      "1664         0.115193  \n",
      "1660         0.097486  \n",
      "1650         0.028303  \n",
      "1641         0.024248  \n",
      "1643         0.016794  \n",
      "1639         0.015018  \n",
      "1637         0.014889  \n",
      "1640         0.013490  \n",
      "1638         0.013044  \n",
      "1645         0.002923  \n",
      "1642         0.001096  \n"
     ]
    }
   ],
   "source": [
    "correlation_price = eda.get_sorted_correlation_pairs(spearman_correlation_matrix, 'options_7_day_diff')\n",
    "\n",
    "print(correlation_price)"
   ]
  },
  {
   "cell_type": "code",
   "execution_count": 42,
   "metadata": {},
   "outputs": [
    {
     "data": {
      "text/html": [
       "<div>\n",
       "<style scoped>\n",
       "    .dataframe tbody tr th:only-of-type {\n",
       "        vertical-align: middle;\n",
       "    }\n",
       "\n",
       "    .dataframe tbody tr th {\n",
       "        vertical-align: top;\n",
       "    }\n",
       "\n",
       "    .dataframe thead th {\n",
       "        text-align: right;\n",
       "    }\n",
       "</style>\n",
       "<table border=\"1\" class=\"dataframe\">\n",
       "  <thead>\n",
       "    <tr style=\"text-align: right;\">\n",
       "      <th></th>\n",
       "      <th>Variable 1</th>\n",
       "      <th>Variable 2</th>\n",
       "      <th>Correlation</th>\n",
       "      <th>Abs Correlation</th>\n",
       "    </tr>\n",
       "  </thead>\n",
       "  <tbody>\n",
       "    <tr>\n",
       "      <th>1607</th>\n",
       "      <td>options_7_day_diff</td>\n",
       "      <td>options_close_price</td>\n",
       "      <td>-0.680847</td>\n",
       "      <td>0.680847</td>\n",
       "    </tr>\n",
       "    <tr>\n",
       "      <th>1630</th>\n",
       "      <td>options_7_day_diff</td>\n",
       "      <td>7_day_vol_target</td>\n",
       "      <td>0.283871</td>\n",
       "      <td>0.283871</td>\n",
       "    </tr>\n",
       "    <tr>\n",
       "      <th>1633</th>\n",
       "      <td>options_7_day_diff</td>\n",
       "      <td>implied_forecasted_vol_diff</td>\n",
       "      <td>-0.227895</td>\n",
       "      <td>0.227895</td>\n",
       "    </tr>\n",
       "    <tr>\n",
       "      <th>1631</th>\n",
       "      <td>options_7_day_diff</td>\n",
       "      <td>options_close_price_7_days</td>\n",
       "      <td>-0.152715</td>\n",
       "      <td>0.152715</td>\n",
       "    </tr>\n",
       "    <tr>\n",
       "      <th>1624</th>\n",
       "      <td>options_7_day_diff</td>\n",
       "      <td>implied_vol</td>\n",
       "      <td>0.144871</td>\n",
       "      <td>0.144871</td>\n",
       "    </tr>\n",
       "  </tbody>\n",
       "</table>\n",
       "</div>"
      ],
      "text/plain": [
       "              Variable 1                   Variable 2  Correlation  \\\n",
       "1607  options_7_day_diff          options_close_price    -0.680847   \n",
       "1630  options_7_day_diff             7_day_vol_target     0.283871   \n",
       "1633  options_7_day_diff  implied_forecasted_vol_diff    -0.227895   \n",
       "1631  options_7_day_diff   options_close_price_7_days    -0.152715   \n",
       "1624  options_7_day_diff                  implied_vol     0.144871   \n",
       "\n",
       "      Abs Correlation  \n",
       "1607         0.680847  \n",
       "1630         0.283871  \n",
       "1633         0.227895  \n",
       "1631         0.152715  \n",
       "1624         0.144871  "
      ]
     },
     "execution_count": 42,
     "metadata": {},
     "output_type": "execute_result"
    }
   ],
   "source": [
    "correlation_price[correlation_price[\"Variable 2\"].isin([\"implied_vol\",\"7_day_vol_target\",\"options_close_price\",\"options_close_price_7_days\",\"implied_forecasted_vol_diff\", \"options_overpriced\"])]\n"
   ]
  },
  {
   "cell_type": "code",
   "execution_count": 38,
   "metadata": {},
   "outputs": [
    {
     "data": {
      "text/plain": [
       "<Axes: >"
      ]
     },
     "execution_count": 38,
     "metadata": {},
     "output_type": "execute_result"
    },
    {
     "data": {
      "image/png": "[encoded data removed]",
      "text/plain": [
       "<Figure size 640x480 with 2 Axes>"
      ]
     },
     "metadata": {},
     "output_type": "display_data"
    }
   ],
   "source": [
    "sns.heatmap(processed_df[[\"implied_vol\",\"7_day_vol_target\",\"options_close_price\",\"options_close_price_7_days\",\"implied_forecasted_vol_diff\",\"options_7_day_diff\"]].corr(method='spearman'))"
   ]
  },
  {
   "cell_type": "code",
   "execution_count": null,
   "metadata": {},
   "outputs": [],
   "source": [
    "# Basic Model (Assuming we have the predicted futures realized_volatility)\n",
    "\n"
   ]
  }
 ],
 "metadata": {
  "kernelspec": {
   "display_name": "base",
   "language": "python",
   "name": "python3"
  },
  "language_info": {
   "codemirror_mode": {
    "name": "ipython",
    "version": 3
   },
   "file_extension": ".py",
   "mimetype": "text/x-python",
   "name": "python",
   "nbconvert_exporter": "python",
   "pygments_lexer": "ipython3",
   "version": "3.12.7"
  }
 },
 "nbformat": 4,
 "nbformat_minor": 2
}
