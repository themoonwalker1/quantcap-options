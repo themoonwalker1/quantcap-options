{
 "cells": [
  {
   "cell_type": "code",
   "execution_count": 7,
   "metadata": {},
   "outputs": [],
   "source": [
    "import requests\n",
    "import pandas as pd\n",
    "import numpy as np\n",
    "from datetime import datetime, timedelta, date\n",
    "import json\n",
    "import httpx\n",
    "import csv\n",
    "import zstandard as zstd\n",
    "import io\n",
    "import yfinance as yf\n",
    "from dateutil.relativedelta import relativedelta\n",
    "from httpx import HTTPStatusError\n",
    "import seaborn as sns\n",
    "import matplotlib.pyplot as plt\n",
    "from pathlib import Path\n",
    "# import pandas_ta as ta\n",
    "from options_data import *"
   ]
  },
  {
   "cell_type": "code",
   "execution_count": 8,
   "metadata": {},
   "outputs": [
    {
     "name": "stdout",
     "output_type": "stream",
     "text": [
      "[1] getting fundamental data\n",
      "[2] getting historical data\n",
      "[1] fundamental data\n",
      "[2] added historical data\n",
      "0      NaT\n",
      "1      NaT\n",
      "2      NaT\n",
      "3      NaT\n",
      "4      NaT\n",
      "        ..\n",
      "1001   NaT\n",
      "1002   NaT\n",
      "1003   NaT\n",
      "1004   NaT\n",
      "1005   NaT\n",
      "Name: expiration, Length: 1006, dtype: datetime64[ns]\n"
     ]
    }
   ],
   "source": [
    "test = GatherData()\n",
    "print(\"[1] getting fundamental data\")\n",
    "fundamental_data = test.get_fundamental_data(\"GOOGL\", \"2020-01-01\", \"2025-01-10\")\n",
    "print(\"[2] getting historical data\")\n",
    "historical_data = test.get_historical_data([\"GOOGL\"], \"2020-01-01\", \"2025-01-10\")\n",
    "\n",
    "historical_data = pd.DataFrame.rename(historical_data, columns={\"root\":\"ticker\"})\n",
    "historical_data[\"date\"] =pd.to_datetime(historical_data['date'], format='%Y-%m-%d', errors='coerce')\n",
    "historical_data = historical_data.drop(columns={\"underlying_price\"})\n",
    "historical_data = historical_data[historical_data[\"right\"]==\"C\"]\n",
    "\n",
    "fundamental_data[\"date\"] = pd.to_datetime(fundamental_data['date']).dt.date\n",
    "historical_data[\"date\"] = pd.to_datetime(historical_data['date']).dt.date\n",
    "\n",
    "print('[1] fundamental data')\n",
    "df = pd.DataFrame(fundamental_data)\n",
    "print('[2] added historical data')\n",
    "df = pd.merge(df, historical_data, how=\"outer\", on=[\"ticker\", \"date\"])\n",
    "# print('[3] added liquidity data')\n",
    "# df = pd.merge(df, liquidity_data, how=\"outer\", on=[\"date\"])\n",
    "# print('[4] added institutional data')\n",
    "# df = pd.merge(df, institutional_data, how=\"outer\", on=[\"ticker\", \"date\"])\n",
    "# print('[5] added sentiment data')\n",
    "# df = pd.merge(df, sentiment_data, how=\"outer\", on=[\"ticker\", \"date\"])\n",
    "# print('[6] added earnings data')\n",
    "# df = pd.merge(df, earnings_data, how=\"outer\", on=[\"ticker\", \"date\"])\n",
    "# df = pd.merge(df, vix_renamed, how=\"left\", on=\"date\")\n",
    "df = pd.DataFrame.rename(df, columns={\"close_x\":\"stock_close\", \"volume_x\":\"stock_volume\", \"close_y\":\"options_close_price\"})\n",
    "df = df.drop(columns={\"ticker\"})\n",
    "\n",
    "df[\"expiration\"] = df[\"expiration\"].astype(str)\n",
    "df[\"expiration\"] = pd.to_datetime(df[\"expiration\"], format=\"%Y-%m-%d\", errors=\"coerce\")\n",
    "print(df[\"expiration\"][df[\"expiration\"].isna()])\n",
    "# df[\"expiration\"] = pd.to_datetime(historical_data[\"expiration\"], format=\"%Y-%m-%d\", errors=\"ignore\")\n",
    "# print(df[\"date\"][df[\"expiration\"].isna()])\n",
    "df[\"expiration_date\"] = df[\"expiration\"]\n",
    "df[\"expiration\"] = (df[\"expiration\"] - pd.to_datetime(df[\"date\"])).dt.days\n",
    "df = df.set_index(\"date\")\n",
    "\n",
    "df = df.drop(columns={\"right\"})\n"
   ]
  },
  {
   "cell_type": "code",
   "execution_count": 9,
   "metadata": {},
   "outputs": [
    {
     "name": "stdout",
     "output_type": "stream",
     "text": [
      "Index(['stock_close', 'high_x', 'low_x', 'open_x', 'stock_volume', 'adjClose',\n",
      "       'adjHigh', 'adjLow', 'adjOpen', 'adjVolume', 'divCash', 'splitFactor',\n",
      "       'expiration', 'strike', 'open_y', 'high_y', 'low_y',\n",
      "       'options_close_price', 'volume_y', 'count', 'bid', 'bid_size', 'ask',\n",
      "       'ask_size', 'open_interest', 'delta', 'theta', 'vega', 'rho', 'epsilon',\n",
      "       'lambda', 'gamma', 'd1', 'd2', 'implied_vol', 'iv_error',\n",
      "       'expiration_date'],\n",
      "      dtype='object')\n",
      "Empty DataFrame\n",
      "Columns: [options_close_price, implied_vol, 7_day_vol_target, implied_forecasted_vol_diff, options_overpriced]\n",
      "Index: []\n"
     ]
    }
   ],
   "source": [
    "# Volatility Calculating from options close price\n",
    "print(df.columns)\n",
    "\n",
    "processed_df = df.copy()\n",
    "# processed_df = processed_df.drop(columns={\"high\", \"low\", \"stock_close\", \"open\", \"adjHigh\", \"adjLow\", \"adjOpen\"})\n",
    "processed_df = processed_df[processed_df[\"options_close_price\"] != 0]\n",
    "# processed_df[\"implied_vol\"] = processed_df[\"implied_vol\"].shift(-1)\n",
    "\n",
    "processed_df[\"previous_price\"] = processed_df.groupby([\"strike\", \"expiration_date\"])[\"options_close_price\"].shift(1)\n",
    "\n",
    "processed_df[\"log_return\"] = np.log(processed_df[\"options_close_price\"]/processed_df[\"previous_price\"])\n",
    "# processed_df[\"log_return\"] = processed_df[\"log_return\"].fillna(0)\n",
    "processed_df[\"7_day_vol\"] = processed_df.groupby([\"strike\", \"expiration_date\"])[\"log_return\"].transform(lambda x: x.rolling(window=7).std())\n",
    "processed_df[\"7_day_vol_target\"] = processed_df.groupby([\"strike\", \"expiration_date\"])[\"7_day_vol\"].shift(-7)\n",
    "\n",
    "processed_df[\"options_close_price_7_days\"] = processed_df[\"options_close_price\"].shift(-7)\n",
    "processed_df[\"options_7_day_diff\"] = processed_df[\"options_close_price_7_days\"] - processed_df[\"options_close_price\"]\n",
    "processed_df[\"implied_forecasted_vol_diff\"] = processed_df[\"implied_vol\"] - processed_df[\"7_day_vol_target\"]\n",
    "processed_df[\"options_overpriced\"] = processed_df[\"implied_forecasted_vol_diff\"] > 0\n",
    "\n",
    "\n",
    "print(processed_df[(processed_df[\"strike\"] == 1300000) & (processed_df[\"expiration_date\"] == pd.to_datetime(\"2020-01-17\"))][[\"options_close_price\", \"implied_vol\", \"7_day_vol_target\", \"implied_forecasted_vol_diff\", \"options_overpriced\"]])\n",
    "# processed_df[[\"strike\", \"expiration_date\", \"options_close_price\", \"previous_price\",\"log_return\",\"7_day_vol_target\"]][1000:]"
   ]
  },
  {
   "cell_type": "code",
   "execution_count": 10,
   "metadata": {},
   "outputs": [],
   "source": [
    "eda = DataVis()\n",
    "spearman_correlation_matrix = processed_df.corr(method='spearman')\n",
    "pearson_correlation_matrix = processed_df.corr(method='pearson')\n",
    "processed_df.dropna(subset = [\"7_day_vol_target\"], inplace=True)"
   ]
  },
  {
   "cell_type": "code",
   "execution_count": 11,
   "metadata": {},
   "outputs": [
    {
     "name": "stdout",
     "output_type": "stream",
     "text": [
      "              Variable 1                   Variable 2  Correlation  \\\n",
      "1849  options_7_day_diff                          bid    -0.932613   \n",
      "1846  options_7_day_diff          options_close_price    -0.932150   \n",
      "1845  options_7_day_diff                        low_y    -0.931137   \n",
      "1844  options_7_day_diff                       high_y    -0.930290   \n",
      "1843  options_7_day_diff                       open_y    -0.929400   \n",
      "1851  options_7_day_diff                          ask    -0.927836   \n",
      "1866  options_7_day_diff               previous_price    -0.920261   \n",
      "1859  options_7_day_diff                       lambda     0.828442   \n",
      "1861  options_7_day_diff                           d1    -0.813931   \n",
      "1862  options_7_day_diff                           d2    -0.811042   \n",
      "1842  options_7_day_diff                       strike     0.715133   \n",
      "1868  options_7_day_diff                    7_day_vol     0.695844   \n",
      "1869  options_7_day_diff             7_day_vol_target     0.623467   \n",
      "1872  options_7_day_diff  implied_forecasted_vol_diff    -0.453165   \n",
      "1854  options_7_day_diff                        delta    -0.347895   \n",
      "1847  options_7_day_diff                     volume_y     0.327592   \n",
      "1858  options_7_day_diff                      epsilon     0.284045   \n",
      "1848  options_7_day_diff                        count     0.277388   \n",
      "1853  options_7_day_diff                open_interest     0.274315   \n",
      "1857  options_7_day_diff                          rho    -0.263260   \n",
      "1867  options_7_day_diff                   log_return    -0.243880   \n",
      "1870  options_7_day_diff   options_close_price_7_days    -0.226364   \n",
      "1864  options_7_day_diff                     iv_error    -0.201163   \n",
      "1873  options_7_day_diff           options_overpriced    -0.180515   \n",
      "1863  options_7_day_diff                  implied_vol     0.165907   \n",
      "1855  options_7_day_diff                        theta     0.141410   \n",
      "1860  options_7_day_diff                        gamma     0.123054   \n",
      "1852  options_7_day_diff                     ask_size     0.100945   \n",
      "1850  options_7_day_diff                     bid_size    -0.077663   \n",
      "1830  options_7_day_diff                  stock_close    -0.075321   \n",
      "1835  options_7_day_diff                     adjClose    -0.075051   \n",
      "1832  options_7_day_diff                        low_x    -0.074344   \n",
      "1837  options_7_day_diff                       adjLow    -0.073974   \n",
      "1831  options_7_day_diff                       high_x    -0.073947   \n",
      "1836  options_7_day_diff                      adjHigh    -0.073639   \n",
      "1833  options_7_day_diff                       open_x    -0.072496   \n",
      "1838  options_7_day_diff                      adjOpen    -0.072203   \n",
      "1841  options_7_day_diff                   expiration    -0.043725   \n",
      "1856  options_7_day_diff                         vega    -0.025950   \n",
      "1834  options_7_day_diff                 stock_volume     0.022830   \n",
      "1839  options_7_day_diff                    adjVolume     0.022830   \n",
      "1865  options_7_day_diff              expiration_date    -0.020091   \n",
      "1840  options_7_day_diff                      divCash    -0.000099   \n",
      "\n",
      "      Abs Correlation  \n",
      "1849         0.932613  \n",
      "1846         0.932150  \n",
      "1845         0.931137  \n",
      "1844         0.930290  \n",
      "1843         0.929400  \n",
      "1851         0.927836  \n",
      "1866         0.920261  \n",
      "1859         0.828442  \n",
      "1861         0.813931  \n",
      "1862         0.811042  \n",
      "1842         0.715133  \n",
      "1868         0.695844  \n",
      "1869         0.623467  \n",
      "1872         0.453165  \n",
      "1854         0.347895  \n",
      "1847         0.327592  \n",
      "1858         0.284045  \n",
      "1848         0.277388  \n",
      "1853         0.274315  \n",
      "1857         0.263260  \n",
      "1867         0.243880  \n",
      "1870         0.226364  \n",
      "1864         0.201163  \n",
      "1873         0.180515  \n",
      "1863         0.165907  \n",
      "1855         0.141410  \n",
      "1860         0.123054  \n",
      "1852         0.100945  \n",
      "1850         0.077663  \n",
      "1830         0.075321  \n",
      "1835         0.075051  \n",
      "1832         0.074344  \n",
      "1837         0.073974  \n",
      "1831         0.073947  \n",
      "1836         0.073639  \n",
      "1833         0.072496  \n",
      "1838         0.072203  \n",
      "1841         0.043725  \n",
      "1856         0.025950  \n",
      "1834         0.022830  \n",
      "1839         0.022830  \n",
      "1865         0.020091  \n",
      "1840         0.000099  \n"
     ]
    }
   ],
   "source": [
    "correlation_price = eda.get_sorted_correlation_pairs(spearman_correlation_matrix, 'options_7_day_diff')\n",
    "\n",
    "print(correlation_price)"
   ]
  },
  {
   "cell_type": "code",
   "execution_count": 12,
   "metadata": {},
   "outputs": [
    {
     "data": {
      "text/html": [
       "<div>\n",
       "<style scoped>\n",
       "    .dataframe tbody tr th:only-of-type {\n",
       "        vertical-align: middle;\n",
       "    }\n",
       "\n",
       "    .dataframe tbody tr th {\n",
       "        vertical-align: top;\n",
       "    }\n",
       "\n",
       "    .dataframe thead th {\n",
       "        text-align: right;\n",
       "    }\n",
       "</style>\n",
       "<table border=\"1\" class=\"dataframe\">\n",
       "  <thead>\n",
       "    <tr style=\"text-align: right;\">\n",
       "      <th></th>\n",
       "      <th>Variable 1</th>\n",
       "      <th>Variable 2</th>\n",
       "      <th>Correlation</th>\n",
       "      <th>Abs Correlation</th>\n",
       "    </tr>\n",
       "  </thead>\n",
       "  <tbody>\n",
       "    <tr>\n",
       "      <th>1846</th>\n",
       "      <td>options_7_day_diff</td>\n",
       "      <td>options_close_price</td>\n",
       "      <td>-0.932150</td>\n",
       "      <td>0.932150</td>\n",
       "    </tr>\n",
       "    <tr>\n",
       "      <th>1869</th>\n",
       "      <td>options_7_day_diff</td>\n",
       "      <td>7_day_vol_target</td>\n",
       "      <td>0.623467</td>\n",
       "      <td>0.623467</td>\n",
       "    </tr>\n",
       "    <tr>\n",
       "      <th>1872</th>\n",
       "      <td>options_7_day_diff</td>\n",
       "      <td>implied_forecasted_vol_diff</td>\n",
       "      <td>-0.453165</td>\n",
       "      <td>0.453165</td>\n",
       "    </tr>\n",
       "    <tr>\n",
       "      <th>1870</th>\n",
       "      <td>options_7_day_diff</td>\n",
       "      <td>options_close_price_7_days</td>\n",
       "      <td>-0.226364</td>\n",
       "      <td>0.226364</td>\n",
       "    </tr>\n",
       "    <tr>\n",
       "      <th>1873</th>\n",
       "      <td>options_7_day_diff</td>\n",
       "      <td>options_overpriced</td>\n",
       "      <td>-0.180515</td>\n",
       "      <td>0.180515</td>\n",
       "    </tr>\n",
       "    <tr>\n",
       "      <th>1863</th>\n",
       "      <td>options_7_day_diff</td>\n",
       "      <td>implied_vol</td>\n",
       "      <td>0.165907</td>\n",
       "      <td>0.165907</td>\n",
       "    </tr>\n",
       "  </tbody>\n",
       "</table>\n",
       "</div>"
      ],
      "text/plain": [
       "              Variable 1                   Variable 2  Correlation  \\\n",
       "1846  options_7_day_diff          options_close_price    -0.932150   \n",
       "1869  options_7_day_diff             7_day_vol_target     0.623467   \n",
       "1872  options_7_day_diff  implied_forecasted_vol_diff    -0.453165   \n",
       "1870  options_7_day_diff   options_close_price_7_days    -0.226364   \n",
       "1873  options_7_day_diff           options_overpriced    -0.180515   \n",
       "1863  options_7_day_diff                  implied_vol     0.165907   \n",
       "\n",
       "      Abs Correlation  \n",
       "1846         0.932150  \n",
       "1869         0.623467  \n",
       "1872         0.453165  \n",
       "1870         0.226364  \n",
       "1873         0.180515  \n",
       "1863         0.165907  "
      ]
     },
     "execution_count": 12,
     "metadata": {},
     "output_type": "execute_result"
    }
   ],
   "source": [
    "correlation_price[correlation_price[\"Variable 2\"].isin([\"implied_vol\",\"7_day_vol_target\",\"options_close_price\",\"options_close_price_7_days\",\"implied_forecasted_vol_diff\", \"options_overpriced\"])]\n"
   ]
  },
  {
   "cell_type": "code",
   "execution_count": 13,
   "metadata": {},
   "outputs": [
    {
     "data": {
      "text/plain": [
       "<Axes: >"
      ]
     },
     "execution_count": 13,
     "metadata": {},
     "output_type": "execute_result"
    },
    {
     "data": {
      "image/png": "[encoded data removed]",
      "text/plain": [
       "<Figure size 640x480 with 2 Axes>"
      ]
     },
     "metadata": {},
     "output_type": "display_data"
    }
   ],
   "source": [
    "sns.heatmap(processed_df[[\"implied_vol\",\"7_day_vol_target\",\"options_close_price\",\"options_close_price_7_days\",\"implied_forecasted_vol_diff\",\"options_7_day_diff\"]].corr(method='spearman'))"
   ]
  },
  {
   "cell_type": "code",
   "execution_count": 14,
   "metadata": {},
   "outputs": [],
   "source": [
    "# Basic Model (Assuming we have the predicted futures realized_volatility)\n",
    "\n"
   ]
  }
 ],
 "metadata": {
  "kernelspec": {
   "display_name": "options",
   "language": "python",
   "name": "python3"
  },
  "language_info": {
   "codemirror_mode": {
    "name": "ipython",
    "version": 3
   },
   "file_extension": ".py",
   "mimetype": "text/x-python",
   "name": "python",
   "nbconvert_exporter": "python",
   "pygments_lexer": "ipython3",
   "version": "3.12.8"
  }
 },
 "nbformat": 4,
 "nbformat_minor": 2
}
