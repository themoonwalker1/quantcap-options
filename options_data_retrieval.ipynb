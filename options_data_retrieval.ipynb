{
  "cells": [
    {
      "cell_type": "markdown",
      "metadata": {
        "colab_type": "text",
        "id": "view-in-github"
      },
      "source": [
        "<a href=\"https://colab.research.google.com/github/themoonwalker1/quantcap-options/blob/main/options_data_retrieval.ipynb\" target=\"_parent\"><img src=\"https://colab.research.google.com/assets/colab-badge.svg\" alt=\"Open In Colab\"/></a>"
      ]
    },
    {
      "cell_type": "code",
      "execution_count": null,
      "metadata": {
        "id": "o7Z9N3kV2llC"
      },
      "outputs": [],
      "source": [
        "# Quant Cap Options Trading 23/24"
      ]
    },
    {
      "cell_type": "code",
      "execution_count": null,
      "metadata": {
        "id": "DCPSey5G2p6Q"
      },
      "outputs": [],
      "source": [
        "import requests\n",
        "import pandas as pd\n",
        "import numpy as np\n",
        "from datetime import datetime, timedelta\n",
        "import json"
      ]
    },
    {
      "cell_type": "code",
      "execution_count": null,
      "metadata": {
        "id": "UQ7MkZuo3eN3"
      },
      "outputs": [],
      "source": [
        "class GatherData():\n",
        "    \"\"\" Pulls EOD Options, EOD Greeks and Open Interest data from ThetaData and returns a dataframe \"\"\"\n",
        "\n",
        "    def get_historical_data(self):\n",
        "        return\n",
        "\n",
        "\n",
        "    def get_sentiment_data(self):\n",
        "        \"\"\" Pulls data from StockGeist and returns a data frame \"\"\"\n",
        "\n",
        "        STOCKGEIST_API_KEY = ''\n",
        "        headers  = { \"token\" : STOCKGEIST_API_KEY}\n",
        "\n",
        "        # API endpoint\n",
        "        base_url = \"https://api.stockgeist.ai\"\n",
        "        asset_class = \"stocks\"  # or \"crypto\"\n",
        "        location = \"us\"  # or \"global\"\n",
        "\n",
        "\n",
        "        # General Parameters\n",
        "        end_date = datetime.now().strftime(\"%Y-%m-%d\")\n",
        "        start_date = (datetime.now() - timedelta(days=30)).strftime(\"%Y-%m-%d\")\n",
        "        interval = \"1d\"\n",
        "        symbol = \"AAPL\"  # example symbol\n",
        "\n",
        "        # Messages sentiment data\n",
        "\n",
        "        messages_url = f\"{base_url}/{asset_class}/{location}/hist/message-metrics\"\n",
        "        messages_params = {\n",
        "                          \"symbol\": symbol,\n",
        "                          \"start_date\": start_date,\n",
        "                          \"end_date\": end_date,\n",
        "                          \"interval\": interval\n",
        "                          }\n",
        "        #....\n",
        "\n",
        "        # Articles sentiment data\n",
        "\n",
        "        articles_url = f\"{base_url}/{asset_class}/{location}/hist/article-metrics\"\n",
        "        articles_params = {\n",
        "                          \"symbol\": symbol,\n",
        "                          \"start_date\": start_date,\n",
        "                          \"end_date\": end_date,\n",
        "                          \"interval\": interval\n",
        "                          }\n",
        "        #....\n",
        "\n",
        "\n",
        "\n",
        "\n",
        "        return\n",
        "    \n",
        "    def get_fundamental_data(self):\n",
        "        \"\"\" Pulls data from Tingo and returns a dataframe\"\"\"\n",
        "\n",
        "        pass\n",
        "\n",
        "    \"\"\" Pulls data from NASDAQ and returns a dataframe \"\"\"\n",
        "\n",
        "    def get_liquidity_data(self):\n",
        "        pass\n",
        "    \"\"\" Pulls data from Yahoo Calendar and returns a dataframe\"\"\"\n",
        "\n",
        "    def get_earnings_data(self):\n",
        "        pass\n",
        "    \"\"\" Pulls data from 13F-Form Dataset and returns a dataframe\"\"\"\n",
        "\n",
        "    def get_institutional_data(self):\n",
        "        pass\n",
        "    \"\"\" Parses through response and constructs and returns a dataframe\"\"\"\n",
        "\n",
        "    def json_to_dtf(self):\n",
        "        pass"
      ]
    },
    {
      "cell_type": "code",
      "execution_count": null,
      "metadata": {
        "id": "4q6TYiPP3kJF"
      },
      "outputs": [],
      "source": [
        "\n",
        "\n",
        "class ProcessData():\n",
        "    def join_all_datasets(self, arr, methods):\n",
        "        \"\"\"\n",
        "        joins all of the datasets in an array of dataframes using the\n",
        "         specified methods in the string array of methods.\n",
        "         Methods include full, left, right, inner\"\"\"\n",
        "        pass\n",
        "\n",
        "    \"\"\" handles missing NaN values using an approach passed in as a string variable named approach for dataset d. Approaches allowed include one-hot encoding, dropping all rows with NaN, etc.\"\"\"\n",
        "\n",
        "    def handle_missing_values(self, approach, dataset):\n",
        "        pass\n",
        "    \"\"\" Normalize features of dataframe x using sklearn methods using an approach passed in as a string variable approach\"\"\"\n",
        "\n",
        "    def normalize_features(self, x, approach):\n",
        "        pass\n",
        "\n",
        "    \"\"\" Select target features of x, where the features are given in an array feature list\"\"\"\n",
        "\n",
        "    def select_features(self, dataset, feature_list):\n",
        "        pass\n",
        "    \"\"\" Splits data into training, validation, and testing \"\"\"\n",
        "\n",
        "    def split_data(self, dataset, column, test_size, val_size):\n",
        "        pass\n",
        "    \"\"\" Deletes rows of data containing outliers above a certain threshold from dataset \"\"\"\n",
        "\n",
        "    def handle_outliers(self, dataset, threshold):\n",
        "        pass"
      ]
    },
    {
      "cell_type": "code",
      "execution_count": null,
      "metadata": {
        "colab": {
          "base_uri": "https://localhost:8080/"
        },
        "id": "MMabI7pu1Pka",
        "outputId": "1748518f-b748-4796-9909-a979a679ae4d"
      },
      "outputs": [
        {
          "name": "stdout",
          "output_type": "stream",
          "text": [
            "testing\n",
            "hi\n"
          ]
        }
      ],
      "source": [
        "print(\"testing\")\n",
        "print(\"hi\")"
      ]
    },
    {
      "cell_type": "code",
      "execution_count": null,
      "metadata": {
        "id": "5kjy8Asj6KPT"
      },
      "outputs": [],
      "source": [
        "def fetch_smalltable_rows(\n",
        "    table_handle: smalltable.Table,\n",
        "    keys: Sequence[bytes | str],\n",
        "    require_all_keys: bool = False,\n",
        ") -> Mapping[bytes, tuple[str, ...]]:\n",
        "    \"\"\"Fetches rows from a Smalltable.\n",
        "\n",
        "    Retrieves rows pertaining to the given keys from the Table instance\n",
        "    represented by table_handle.  String keys will be UTF-8 encoded.\n",
        "\n",
        "    Args:\n",
        "        table_handle: An open smalltable.Table instance.\n",
        "        keys: A sequence of strings representing the key of each table\n",
        "          row to fetch.  String keys will be UTF-8 encoded.\n",
        "        require_all_keys: If True only rows with values set for all keys will be\n",
        "          returned.\n",
        "\n",
        "    Returns:\n",
        "        A dict mapping keys to the corresponding table row data\n",
        "        fetched. Each row is represented as a tuple of strings. For\n",
        "        example:\n",
        "\n",
        "        {b'Serak': ('Rigel VII', 'Preparer'),\n",
        "         b'Zim': ('Irk', 'Invader'),\n",
        "         b'Lrrr': ('Omicron Persei 8', 'Emperor')}\n",
        "\n",
        "        Returned keys are always bytes.  If a key from the keys argument is\n",
        "        missing from the dictionary, then that row was not found in the\n",
        "        table (and require_all_keys must have been False).\n",
        "\n",
        "    Raises:\n",
        "        IOError: An error occurred accessing the smalltable.\n",
        "    \"\"\""
      ]
    },
    {
      "cell_type": "markdown",
      "metadata": {
        "id": "1myFYcBO2kng"
      },
      "source": []
    }
  ],
  "metadata": {
    "colab": {
      "include_colab_link": true,
      "provenance": []
    },
    "kernelspec": {
      "display_name": "Python 3",
      "name": "python3"
    },
    "language_info": {
      "name": "python"
    }
  },
  "nbformat": 4,
  "nbformat_minor": 0
}
