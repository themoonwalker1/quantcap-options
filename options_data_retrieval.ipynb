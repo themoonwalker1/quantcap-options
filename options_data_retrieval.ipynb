{
  "nbformat": 4,
  "nbformat_minor": 0,
  "metadata": {
    "colab": {
      "provenance": [],
      "include_colab_link": true
    },
    "kernelspec": {
      "name": "python3",
      "display_name": "Python 3"
    },
    "language_info": {
      "name": "python"
    }
  },
  "cells": [
    {
      "cell_type": "markdown",
      "metadata": {
        "id": "view-in-github",
        "colab_type": "text"
      },
      "source": [
        "<a href=\"https://colab.research.google.com/github/themoonwalker1/quantcap-options/blob/main/options_data_retrieval.ipynb\" target=\"_parent\"><img src=\"https://colab.research.google.com/assets/colab-badge.svg\" alt=\"Open In Colab\"/></a>"
      ]
    },
    {
      "cell_type": "code",
      "source": [
        "# Quant Cap Options Trading 23/24"
      ],
      "metadata": {
        "id": "o7Z9N3kV2llC"
      },
      "execution_count": null,
      "outputs": []
    },
    {
      "cell_type": "code",
      "source": [
        "import requests\n",
        "import pandas as pd\n",
        "import numpy as np\n",
        "from datetime import datetime, timedelta"
      ],
      "metadata": {
        "id": "DCPSey5G2p6Q"
      },
      "execution_count": null,
      "outputs": []
    },
    {
      "cell_type": "code",
      "source": [
        "class GatherData():\n",
        "    \"\"\" Pulls EOD Options, EOD Greeks and Open Interest data from ThetaData and returns a dataframe \"\"\"\n",
        "\n",
        "    def get_historical_data(self):\n",
        "        return\n",
        "\n",
        "    \"\"\" Pulls data from StockGeist and returns a dataframe \"\"\"\n",
        "\n",
        "    def get_sentiment_data(self):\n",
        "        STOCKGEIST_API_KEY = ''\n",
        "        return\n",
        "\n",
        "    \"\"\" Pulls data from Tingo and returns a dataframe\"\"\"\n",
        "\n",
        "    def get_fundamental_data(self):\n",
        "        pass\n",
        "\n",
        "    \"\"\" Pulls data from NASDAQ and returns a dataframe \"\"\"\n",
        "\n",
        "    def get_liquidity_data(self):\n",
        "        pass\n",
        "    \"\"\" Pulls data from Yahoo Calendar and returns a dataframe\"\"\"\n",
        "\n",
        "    def get_earnings_data(self):\n",
        "        pass\n",
        "    \"\"\" Pulls data from 13F-Form Dataset and returns a dataframe\"\"\"\n",
        "\n",
        "    def get_institutional_data(self):\n",
        "        pass\n",
        "    \"\"\" Parses through response and constructs and returns a dataframe\"\"\"\n",
        "\n",
        "    def json_to_dtf(self):\n",
        "        pass"
      ],
      "metadata": {
        "id": "UQ7MkZuo3eN3"
      },
      "execution_count": null,
      "outputs": []
    },
    {
      "cell_type": "code",
      "source": [
        "\n",
        "\n",
        "class ProcessData():\n",
        "    def join_all_datasets(self, arr, methods):\n",
        "        \"\"\"\n",
        "        joins all of the datasets in an array of dataframes using the\n",
        "         specified methods in the string array of methods.\n",
        "         Methods include full, left, right, inner\"\"\"\n",
        "        pass\n",
        "\n",
        "    \"\"\" handles missing NaN values using an approach passed in as a string variable named approach for dataset d. Approaches allowed include one-hot encoding, dropping all rows with NaN, etc.\"\"\"\n",
        "\n",
        "    def handle_missing_values(self, approach, dataset):\n",
        "        pass\n",
        "    \"\"\" Normalize features of dataframe x using sklearn methods using an approach passed in as a string variable approach\"\"\"\n",
        "\n",
        "    def normalize_features(self, x, approach):\n",
        "        pass\n",
        "\n",
        "    \"\"\" Select target features of x, where the features are given in an array feature list\"\"\"\n",
        "\n",
        "    def select_features(self, dataset, feature_list):\n",
        "        pass\n",
        "    \"\"\" Splits data into training, validation, and testing \"\"\"\n",
        "\n",
        "    def split_data(self, dataset, column, test_size, val_size):\n",
        "        pass\n",
        "    \"\"\" Deletes rows of data containing outliers above a certain threshold from dataset \"\"\"\n",
        "\n",
        "    def handle_outliers(self, dataset, threshold):\n",
        "        pass"
      ],
      "metadata": {
        "id": "4q6TYiPP3kJF"
      },
      "execution_count": null,
      "outputs": []
    },
    {
      "cell_type": "code",
      "execution_count": null,
      "metadata": {
        "colab": {
          "base_uri": "https://localhost:8080/"
        },
        "id": "MMabI7pu1Pka",
        "outputId": "1748518f-b748-4796-9909-a979a679ae4d"
      },
      "outputs": [
        {
          "output_type": "stream",
          "name": "stdout",
          "text": [
            "testing\n",
            "hi\n"
          ]
        }
      ],
      "source": [
        "print(\"testing\")\n",
        "print(\"hi\")"
      ]
    },
    {
      "cell_type": "markdown",
      "source": [],
      "metadata": {
        "id": "1myFYcBO2kng"
      }
    }
  ]
}